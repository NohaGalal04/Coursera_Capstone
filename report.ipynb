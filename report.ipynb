{
 "cells": [
  {
   "cell_type": "markdown",
   "metadata": {},
   "source": [
    "# Disney World Vacation Florida Vs California"
   ]
  },
  {
   "cell_type": "markdown",
   "metadata": {},
   "source": [
    "# 1. Introduction"
   ]
  },
  {
   "cell_type": "markdown",
   "metadata": {},
   "source": [
    "## 1.1 Background"
   ]
  },
  {
   "cell_type": "markdown",
   "metadata": {},
   "source": [
    "#### Disney themed parks and entertainment lands are one of the most visited places.\n",
    "#### most travelers who like to see different monuments all around the world would hear about 'Disney Land' but the least does they know that there are more than one 'Disney Land' in the world\n",
    "#### with different ranking.\n",
    "#### there is about 6 of them in Paris, Tokyo, California, Florida, Shanghai and Hong Kong the top two are Walt Disney World Resort in Florida and Disney Land Resort in California.  "
   ]
  },
  {
   "cell_type": "markdown",
   "metadata": {},
   "source": [
    "## 1.2 Problem Statment"
   ]
  },
  {
   "cell_type": "markdown",
   "metadata": {},
   "source": [
    "#### a family decided to visit Disney Land but they couldn't decide which of the top two has the best neighborhood for a long stay  , their concerns where which of them has \n",
    "- the nearest best rated hotels , \n",
    "- and medical centers (in case of emergencies)\n",
    "#### so a clear comparison must be made between Florida and California around Walt Disney Resort and Disney Land Resort"
   ]
  },
  {
   "cell_type": "markdown",
   "metadata": {},
   "source": [
    "# 2. Data Section"
   ]
  },
  {
   "cell_type": "markdown",
   "metadata": {},
   "source": [
    "## 2.1 Data Source"
   ]
  },
  {
   "cell_type": "markdown",
   "metadata": {},
   "source": [
    "#### the data used for this project will be the data provided by Foursuqare about the facilities mentioned in the problem statement .\n",
    "#### which are hospitals , airports and hotels near Disney land Resort California and 'Walt Disney Resort in Florida.\n",
    "#### the data used will be :\n",
    "  - Hospitals near 'Disney land Resort' California and average distance between them.\n",
    "  - Hospitals near 'Walt Disney Resort' in Florida and average distance between them.\n",
    "  - Hotels near 'Disney land Resort' California and average distance between them.\n",
    "  - Hotels near 'Walt Disney Resort' in Florida and average distance between them.\n",
    "    "
   ]
  },
  {
   "cell_type": "markdown",
   "metadata": {},
   "source": [
    "## 2.2 Data cleaning "
   ]
  },
  {
   "cell_type": "markdown",
   "metadata": {},
   "source": [
    "#### Before retrieving Data from json Files provided by Forsquare  close observation had to be made in order to know the correct keys for the data\n",
    "#### then retrieved data of hotels near both 'DisneyLand' and 'WaltDisney' Resorts and hospital near both.\n",
    "#### All hotels with rating equals 'Nan' all row needs to be dropped down since we're concerned with hotels with rating over 6.0\n",
    "#### and data retrieved needed to be rearranged and cleaned in a better form inside a dataframe "
   ]
  },
  {
   "cell_type": "markdown",
   "metadata": {},
   "source": [
    "# 3. Methodology"
   ]
  },
  {
   "cell_type": "markdown",
   "metadata": {},
   "source": [
    "#### calculating the mean distance between hotels above rating 6.0 and both resorts is necessary to discuss which resort is nearer to hotels around it , as if the family chose any of the hotels listed near the distant resort it will be closer than the others to the other resort  also this gives the family a privilege  to pick a hotel form a large variety."
   ]
  },
  {
   "cell_type": "markdown",
   "metadata": {},
   "source": [
    "#### then calculating and mapping Hospitals around both resorts was important for the decision  , then after analyzing output it was shown that Disney world California is the optimum choice for that family based on the criteria they provided"
   ]
  },
  {
   "cell_type": "markdown",
   "metadata": {},
   "source": [
    "# 4. Conclusion"
   ]
  },
  {
   "cell_type": "markdown",
   "metadata": {},
   "source": [
    "#### in conclusion , a family had a hard time to decide which disney themed resort is better to have a vacation at,\n",
    "#### the family had some concerns like distance to hospitals and it's location , hotels over rating 6.0 and it's location\n",
    "#### location of both  hotels and hospitals had to be retrieved and rating of each hotel is retrieved from json file given from forsquare "
   ]
  },
  {
   "cell_type": "markdown",
   "metadata": {},
   "source": []
  }
 ],
 "metadata": {
  "kernelspec": {
   "display_name": "Python",
   "language": "python",
   "name": "conda-env-python-py"
  },
  "language_info": {
   "codemirror_mode": {
    "name": "ipython",
    "version": 3
   },
   "file_extension": ".py",
   "mimetype": "text/x-python",
   "name": "python",
   "nbconvert_exporter": "python",
   "pygments_lexer": "ipython3",
   "version": "3.6.10"
  }
 },
 "nbformat": 4,
 "nbformat_minor": 4
}
