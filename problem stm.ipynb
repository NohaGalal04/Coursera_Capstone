{
 "cells": [
  {
   "cell_type": "markdown",
   "metadata": {},
   "source": [
    "# Disney World Vacation Florida Vs California"
   ]
  },
  {
   "cell_type": "markdown",
   "metadata": {},
   "source": [
    "## Background"
   ]
  },
  {
   "cell_type": "markdown",
   "metadata": {},
   "source": [
    "#### Disney themed parks and entertainment lands are one of the most visited places.\n",
    "#### most travelers who like to see different monuments all around the world would hear about 'Disney Land' but the least does they know that there are more than one 'Disney Land' in the world\n",
    "#### with different ranking.\n",
    "#### there is about 6 of them in Paris, Tokyo, California, Florida, Shanghai and Hong Kong the top two are Walt Disney World Resort in Florida and Disney Land Resort in California.  "
   ]
  },
  {
   "cell_type": "markdown",
   "metadata": {},
   "source": [
    "## Problem Statment"
   ]
  },
  {
   "cell_type": "markdown",
   "metadata": {},
   "source": [
    "#### a family decided to visit Disney Land but they couldn't decide which of the top two has the best neighborhood for a long stay  , their concerns where which of them has \n",
    "- the nearest best rated hotels , \n",
    "- and medical centers (in case of emergencies)\n",
    "#### so a clear comparison must be made between Florida and California around Walt Disney Resort and Disney Land Resort"
   ]
  },
  {
   "cell_type": "markdown",
   "metadata": {},
   "source": [
    "## Data Section"
   ]
  },
  {
   "cell_type": "markdown",
   "metadata": {},
   "source": [
    "#### the data used for this project will be the data provided by Foursuqare about the facilities mentioned in the problem statement .\n",
    "#### which are hospitals , airports and hotels near Disney land Resort California and 'Walt Disney Resort in Florida.\n",
    "#### the data used will be :\n",
    "  - Hospitals near 'Disney land Resort' California and average distance between them.\n",
    "  - Hospitals near 'Walt Disney Resort' in Florida and average distance between them.\n",
    "  - Hotels near 'Disney land Resort' California and average distance between them.\n",
    "  - Hotels near 'Walt Disney Resort' in Florida and average distance between them.\n",
    "    \n",
    "### then averages are compared to decide which is better travel to, and a cluster analysis need to be done around both resorts"
   ]
  },
  {
   "cell_type": "code",
   "execution_count": null,
   "metadata": {},
   "outputs": [],
   "source": []
  }
 ],
 "metadata": {
  "kernelspec": {
   "display_name": "Python",
   "language": "python",
   "name": "conda-env-python-py"
  },
  "language_info": {
   "codemirror_mode": {
    "name": "ipython",
    "version": 3
   },
   "file_extension": ".py",
   "mimetype": "text/x-python",
   "name": "python",
   "nbconvert_exporter": "python",
   "pygments_lexer": "ipython3",
   "version": "3.6.10"
  }
 },
 "nbformat": 4,
 "nbformat_minor": 4
}
