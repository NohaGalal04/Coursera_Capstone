{
 "cells": [
  {
   "cell_type": "markdown",
   "metadata": {},
   "source": [
    "# Disney World Vacation Orlando Vs California"
   ]
  },
  {
   "cell_type": "markdown",
   "metadata": {},
   "source": [
    "## Problem Statment"
   ]
  },
  {
   "cell_type": "markdown",
   "metadata": {},
   "source": [
    "#### most travelers who like to see different monuments all around the world would hear about 'Disney world' but non but the least does the know that there are more than one 'Disney land' in the world  \n",
    "#### so in this project it was decided to cover two of them.\n",
    "#### as people decides to visit 'Disney land' they discover that there is one in Orlando, Florida and another in California.\n",
    "#### so; they start questioning,\"which is better and more safe to travel to ?\".\n",
    "#### here where data science comes in to solve the problem and decides which one is better travel to.\n",
    "#### so the main concerns were; which of them has the highest average of distance to hospitals , airports and hotels "
   ]
  },
  {
   "cell_type": "markdown",
   "metadata": {},
   "source": [
    "## Data Section"
   ]
  },
  {
   "cell_type": "markdown",
   "metadata": {},
   "source": [
    "#### the data used for this project will be the data provided by Foursuqare only about the facilities mentioned in the problem statment .\n",
    "#### which are hospitals , airports and hotels near 'Disney land' California and 'Walt Disney park' in Orlando.\n",
    "#### the data used will be :\n",
    "####     -Hospitals near 'Disney land' California and average distance between them.\n",
    "####     -Hospitals near 'Walt Disney park' in Orlando and average distance between them.\n",
    "####     -Airports near 'Disney land' California and average distance between them.\n",
    "####     -Airports near 'Walt Disney park' in Orlando and average distance between them.\n",
    "####     -Hotels near 'Disney land' California and average distance between them.\n",
    "####     -Hotels near 'Walt Disney park' in Orlando and average distance between them.\n",
    "####    \n",
    "\n",
    "### then averages are compared to decide which is better travel to."
   ]
  },
  {
   "cell_type": "code",
   "execution_count": null,
   "metadata": {},
   "outputs": [],
   "source": []
  }
 ],
 "metadata": {
  "kernelspec": {
   "display_name": "Python",
   "language": "python",
   "name": "conda-env-python-py"
  },
  "language_info": {
   "codemirror_mode": {
    "name": "ipython",
    "version": 3
   },
   "file_extension": ".py",
   "mimetype": "text/x-python",
   "name": "python",
   "nbconvert_exporter": "python",
   "pygments_lexer": "ipython3",
   "version": "3.6.10"
  }
 },
 "nbformat": 4,
 "nbformat_minor": 4
}
